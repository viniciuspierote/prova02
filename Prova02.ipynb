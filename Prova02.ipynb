{
 "cells": [
  {
   "cell_type": "code",
   "execution_count": 5,
   "id": "d22f72bc-f5b5-4eb6-8ff1-e0e1170f194b",
   "metadata": {},
   "outputs": [
    {
     "name": "stdout",
     "output_type": "stream",
     "text": [
      "Lista original: [29, 10, 14, 37, 13, 465, 456, 54, 54, 54, 54]\n",
      "Lista ordenada: [10, 13, 14, 29, 37, 54, 54, 54, 54, 456, 465]\n",
      "Maior elemento: 465\n"
     ]
    }
   ],
   "source": [
    "def selection_sort(arr):\n",
    "    for i in range(len(arr)):\n",
    "        min_idx = i\n",
    "        for j in range(i + 1, len(arr)):\n",
    "            if arr[j] < arr[min_idx]:\n",
    "                min_idx = j\n",
    "        arr[i], arr[min_idx] = arr[min_idx], arr[i]\n",
    "    return arr\n",
    "\n",
    "# Lista de exemplo\n",
    "lista = [29, 10, 14, 37, 13,465,456,54,54,54,54]\n",
    "print(\"Lista original:\", lista)\n",
    "sorted_list = selection_sort(lista)\n",
    "print(\"Lista ordenada:\", sorted_list)\n",
    "\n",
    "# Função para encontrar o maior elemento da lista ordenada\n",
    "def acharomaiorzao(lista_ordenada):\n",
    "    return lista_ordenada[-1]\n",
    "\n",
    "# Exemplo de utilização\n",
    "print(\"Maior elemento:\", acharomaiorzao(sorted_list))\n"
   ]
  }
 ],
 "metadata": {
  "kernelspec": {
   "display_name": "Python 3 (ipykernel)",
   "language": "python",
   "name": "python3"
  },
  "language_info": {
   "codemirror_mode": {
    "name": "ipython",
    "version": 3
   },
   "file_extension": ".py",
   "mimetype": "text/x-python",
   "name": "python",
   "nbconvert_exporter": "python",
   "pygments_lexer": "ipython3",
   "version": "3.12.4"
  }
 },
 "nbformat": 4,
 "nbformat_minor": 5
}
